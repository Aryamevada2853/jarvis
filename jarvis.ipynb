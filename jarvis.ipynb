{
 "cells": [
  {
   "cell_type": "code",
   "execution_count": 26,
   "id": "0ecdb4c8-d340-4747-92eb-6c81f9a27f63",
   "metadata": {},
   "outputs": [
    {
     "name": "stdout",
     "output_type": "stream",
     "text": [
      "Requirement already satisfied: pyttsx3 in c:\\users\\aryam\\appdata\\local\\programs\\python\\python312\\lib\\site-packages (2.98)\n",
      "Requirement already satisfied: comtypes in c:\\users\\aryam\\appdata\\local\\programs\\python\\python312\\lib\\site-packages (from pyttsx3) (1.4.8)\n",
      "Requirement already satisfied: pypiwin32 in c:\\users\\aryam\\appdata\\local\\programs\\python\\python312\\lib\\site-packages (from pyttsx3) (223)\n",
      "Requirement already satisfied: pywin32 in c:\\users\\aryam\\appdata\\local\\programs\\python\\python312\\lib\\site-packages (from pyttsx3) (306)\n",
      "Requirement already satisfied: SpeechRecognition in c:\\users\\aryam\\appdata\\local\\programs\\python\\python312\\lib\\site-packages (3.12.0)\n",
      "Requirement already satisfied: typing-extensions in c:\\users\\aryam\\appdata\\local\\programs\\python\\python312\\lib\\site-packages (from SpeechRecognition) (4.12.2)\n",
      "Requirement already satisfied: pyjokes in c:\\users\\aryam\\appdata\\local\\programs\\python\\python312\\lib\\site-packages (0.8.3)\n",
      "Collecting pyaudio\n",
      "  Downloading PyAudio-0.2.14-cp312-cp312-win_amd64.whl.metadata (2.7 kB)\n",
      "Downloading PyAudio-0.2.14-cp312-cp312-win_amd64.whl (164 kB)\n",
      "Installing collected packages: pyaudio\n",
      "Successfully installed pyaudio-0.2.14\n"
     ]
    }
   ],
   "source": [
    "!pip install pyttsx3\n",
    "!pip install SpeechRecognition\n",
    "!pip install pyjokes\n",
    "!pip install pyaudio\n"
   ]
  },
  {
   "cell_type": "code",
   "execution_count": 1,
   "id": "9e679a46-1a6b-4223-a051-ceb5861e25c7",
   "metadata": {},
   "outputs": [],
   "source": [
    "import pyttsx3\n",
    "import speech_recognition as sr\n",
    "import webbrowser\n",
    "import datetime\n",
    "import pyjokes"
   ]
  },
  {
   "cell_type": "code",
   "execution_count": 2,
   "id": "92f803e6-4e06-439c-a271-d9c4c156eca0",
   "metadata": {},
   "outputs": [],
   "source": [
    "def sptext():\n",
    "    recognizer=sr.Recognizer()\n",
    "    with sr.Microphone() as source:\n",
    "        print(\"Initializing audio systems... Ready for your command.\")\n",
    "        recognizer.adjust_for_ambient_noise(source)\n",
    "        audio=recognizer.listen(source)\n",
    "        try:\n",
    "            print(\"Processing your input...\")\n",
    "            data= recognizer.recognize_google(audio)\n",
    "            print(data)\n",
    "            return data\n",
    "        except sr.UnknownValueError:\n",
    "            print(\"Apologies, I couldn't comprehend that. Please repeat.\")\n",
    "            return \"\"\n"
   ]
  },
  {
   "cell_type": "code",
   "execution_count": 5,
   "id": "56475cbe-09fd-4420-9400-d8a60dfc9858",
   "metadata": {},
   "outputs": [],
   "source": [
    "def speechtx(x):\n",
    "    engine = pyttsx3.init()\n",
    "    voices = engine.getProperty('voices')\n",
    "    engine.setProperty('voice',voices[1].id)\n",
    "    rate = engine.getProperty('rate')\n",
    "    engine.setProperty('rate',150)\n",
    "    engine.say(x)\n",
    "    engine.runAndWait()\n"
   ]
  },
  {
   "cell_type": "code",
   "execution_count": 6,
   "id": "7a4496c3-862f-4a6d-b06e-b978d67e6063",
   "metadata": {},
   "outputs": [],
   "source": [
    "def tell_time():\n",
    "    now = datetime.datetime.now().strftime(\"%I:%M %p\")\n",
    "    speechtx(f\"The current time is {now}.\")\n",
    "\n",
    "def tell_date():\n",
    "    today = datetime.datetime.now().strftime(\"%A, %d %B %Y\")\n",
    "    speechtx(f\"Today's date is {today}.\")\n",
    "\n",
    "def tell_joke():\n",
    "    joke = pyjokes.get_joke()\n",
    "    speechtx(joke)\n",
    "\n",
    "def open_youtube():\n",
    "    speechtx(\"Opening YouTube.\")\n",
    "    webbrowser.open(\"https://www.youtube.com\")\n",
    "\n",
    "def open_google():\n",
    "    speechtx(\"Opening Google.\")\n",
    "    webbrowser.open(\"https://www.google.com\")\n",
    "\n",
    "def say_goodbye():\n",
    "    speechtx(\"Shutting down. Have a great day!\")\n",
    "    return \"exit\"\n",
    "\n",
    "def unknown_command():\n",
    "    speechtx(\"I'm sorry, I didn't understand that command. Please try again.\")\n",
    "\n",
    "# Command dictionary\n",
    "commands = {\n",
    "    \"time\": tell_time,\n",
    "    \"date\": tell_date,\n",
    "    \"joke\": tell_joke,\n",
    "    \"open youtube\": open_youtube,\n",
    "    \"open google\": open_google,\n",
    "    \"goodbye\": say_goodbye,\n",
    "    \"stop\": say_goodbye,\n",
    "}"
   ]
  },
  {
   "cell_type": "code",
   "execution_count": null,
   "id": "483105c3-21ed-4ee8-8552-5f02fde7c794",
   "metadata": {
    "scrolled": true
   },
   "outputs": [
    {
     "name": "stdout",
     "output_type": "stream",
     "text": [
      "Initializing audio systems... Ready for your command.\n",
      "Processing your input...\n",
      "Apologies, I couldn't comprehend that. Please repeat.\n",
      "Initializing audio systems... Ready for your command.\n",
      "Processing your input...\n",
      "Apologies, I couldn't comprehend that. Please repeat.\n",
      "Initializing audio systems... Ready for your command.\n",
      "Processing your input...\n",
      "Apologies, I couldn't comprehend that. Please repeat.\n",
      "Initializing audio systems... Ready for your command.\n",
      "Processing your input...\n",
      "Aryan background\n",
      "Initializing audio systems... Ready for your command.\n",
      "Processing your input...\n",
      "Apologies, I couldn't comprehend that. Please repeat.\n",
      "Initializing audio systems... Ready for your command.\n",
      "Processing your input...\n",
      "Apologies, I couldn't comprehend that. Please repeat.\n",
      "Initializing audio systems... Ready for your command.\n",
      "Processing your input...\n",
      "Apologies, I couldn't comprehend that. Please repeat.\n",
      "Initializing audio systems... Ready for your command.\n",
      "Processing your input...\n",
      "Apologies, I couldn't comprehend that. Please repeat.\n",
      "Initializing audio systems... Ready for your command.\n",
      "Processing your input...\n",
      "Apologies, I couldn't comprehend that. Please repeat.\n",
      "Initializing audio systems... Ready for your command.\n",
      "Processing your input...\n",
      "Apologies, I couldn't comprehend that. Please repeat.\n",
      "Initializing audio systems... Ready for your command.\n",
      "Processing your input...\n",
      "Apologies, I couldn't comprehend that. Please repeat.\n",
      "Initializing audio systems... Ready for your command.\n",
      "Processing your input...\n",
      "Apologies, I couldn't comprehend that. Please repeat.\n",
      "Initializing audio systems... Ready for your command.\n",
      "Processing your input...\n",
      "Apologies, I couldn't comprehend that. Please repeat.\n",
      "Initializing audio systems... Ready for your command.\n",
      "Processing your input...\n",
      "Apologies, I couldn't comprehend that. Please repeat.\n",
      "Initializing audio systems... Ready for your command.\n",
      "Processing your input...\n",
      "Apologies, I couldn't comprehend that. Please repeat.\n",
      "Initializing audio systems... Ready for your command.\n",
      "Processing your input...\n",
      "Apologies, I couldn't comprehend that. Please repeat.\n",
      "Initializing audio systems... Ready for your command.\n",
      "Processing your input...\n",
      "Apologies, I couldn't comprehend that. Please repeat.\n",
      "Initializing audio systems... Ready for your command.\n",
      "Processing your input...\n",
      "Apologies, I couldn't comprehend that. Please repeat.\n",
      "Initializing audio systems... Ready for your command.\n",
      "Processing your input...\n",
      "Apologies, I couldn't comprehend that. Please repeat.\n",
      "Initializing audio systems... Ready for your command.\n",
      "Processing your input...\n",
      "Apologies, I couldn't comprehend that. Please repeat.\n",
      "Initializing audio systems... Ready for your command.\n",
      "Processing your input...\n",
      "Apologies, I couldn't comprehend that. Please repeat.\n",
      "Initializing audio systems... Ready for your command.\n",
      "Processing your input...\n",
      "Apologies, I couldn't comprehend that. Please repeat.\n",
      "Initializing audio systems... Ready for your command.\n",
      "Processing your input...\n",
      "Apologies, I couldn't comprehend that. Please repeat.\n",
      "Initializing audio systems... Ready for your command.\n",
      "Processing your input...\n",
      "Apologies, I couldn't comprehend that. Please repeat.\n",
      "Initializing audio systems... Ready for your command.\n",
      "Processing your input...\n",
      "Apologies, I couldn't comprehend that. Please repeat.\n",
      "Initializing audio systems... Ready for your command.\n",
      "Processing your input...\n",
      "Apologies, I couldn't comprehend that. Please repeat.\n",
      "Initializing audio systems... Ready for your command.\n"
     ]
    }
   ],
   "source": [
    "if __name__ == '__main__':\n",
    "    speechtx(\"Systems are online. Say 'hello' to activate.\")\n",
    "    while True:\n",
    "        activation_command = sptext()\n",
    "        if \"hello\" in activation_command:\n",
    "            speechtx(\"Hello! I am Jarvis. How may I assist you?\")\n",
    "            \n",
    "            while True:\n",
    "                if user_command in commands:\n",
    "                    result = commands[user_command]()  # Call the corresponding function\n",
    "                    if result == \"exit\":  # Check if the function signals to exit\n",
    "                        break\n",
    "                else:\n",
    "                    unknown_command()\n",
    "            break  # Exit the outer loop after functional phase ends"
   ]
  },
  {
   "cell_type": "code",
   "execution_count": null,
   "id": "360ca982-f981-4aad-b3ce-2ba75e36db3c",
   "metadata": {},
   "outputs": [],
   "source": []
  },
  {
   "cell_type": "code",
   "execution_count": null,
   "id": "e7a50542-dc7d-4e87-8e37-77f549d49bca",
   "metadata": {},
   "outputs": [],
   "source": []
  },
  {
   "cell_type": "code",
   "execution_count": null,
   "id": "6c02af67-bcdc-495a-ad5e-4d6dcf3fb1f4",
   "metadata": {},
   "outputs": [],
   "source": []
  },
  {
   "cell_type": "code",
   "execution_count": null,
   "id": "86ffaf68-35ad-4b6d-bf38-806557064c1e",
   "metadata": {},
   "outputs": [],
   "source": []
  },
  {
   "cell_type": "code",
   "execution_count": null,
   "id": "14783e40-19a1-482b-842f-a3122a32ae4b",
   "metadata": {},
   "outputs": [],
   "source": []
  },
  {
   "cell_type": "code",
   "execution_count": null,
   "id": "f06fd30c-8aea-402d-a9c4-c576c3355cfb",
   "metadata": {},
   "outputs": [],
   "source": []
  },
  {
   "cell_type": "code",
   "execution_count": null,
   "id": "47e250ae-18ab-42e8-a68e-90f8cb51f150",
   "metadata": {},
   "outputs": [],
   "source": []
  },
  {
   "cell_type": "code",
   "execution_count": null,
   "id": "76007dc8-de6c-4523-8dba-89e7f63a640c",
   "metadata": {},
   "outputs": [],
   "source": []
  },
  {
   "cell_type": "code",
   "execution_count": null,
   "id": "7b75c7f2-940e-4082-a138-146320667f61",
   "metadata": {},
   "outputs": [],
   "source": []
  },
  {
   "cell_type": "code",
   "execution_count": null,
   "id": "3bdc62ea-42a0-4466-87db-7fb4346c2057",
   "metadata": {},
   "outputs": [],
   "source": []
  },
  {
   "cell_type": "code",
   "execution_count": null,
   "id": "fb32714e-cb62-4aca-a3db-2ac45ca4d013",
   "metadata": {},
   "outputs": [],
   "source": []
  },
  {
   "cell_type": "code",
   "execution_count": null,
   "id": "3989de43-5565-4b28-8c2a-fa3a7cfc5814",
   "metadata": {},
   "outputs": [],
   "source": []
  },
  {
   "cell_type": "code",
   "execution_count": null,
   "id": "e4032aa5-384a-4551-b5f1-ff7f3db824fa",
   "metadata": {},
   "outputs": [],
   "source": []
  },
  {
   "cell_type": "code",
   "execution_count": null,
   "id": "8b120729-51b4-42b0-96c6-12ec36ffe22f",
   "metadata": {},
   "outputs": [],
   "source": []
  },
  {
   "cell_type": "code",
   "execution_count": null,
   "id": "bab75de5-af05-40f4-a743-57030164864b",
   "metadata": {},
   "outputs": [],
   "source": []
  },
  {
   "cell_type": "code",
   "execution_count": null,
   "id": "07d28f2a-10d6-45c1-b65a-31167b890ad6",
   "metadata": {},
   "outputs": [],
   "source": []
  },
  {
   "cell_type": "code",
   "execution_count": null,
   "id": "539c6e69-06ca-4bc9-aac7-953e2b30fd9d",
   "metadata": {},
   "outputs": [],
   "source": []
  },
  {
   "cell_type": "code",
   "execution_count": null,
   "id": "6642af54-ba5b-4d1d-bdb5-bc013d2b553d",
   "metadata": {},
   "outputs": [],
   "source": []
  },
  {
   "cell_type": "code",
   "execution_count": null,
   "id": "faaee824-0a4a-4ec9-a54d-cb9a92db27ee",
   "metadata": {},
   "outputs": [],
   "source": []
  },
  {
   "cell_type": "code",
   "execution_count": null,
   "id": "fbd21438-8bcf-44a5-ac07-cba7c5c248c0",
   "metadata": {},
   "outputs": [],
   "source": []
  },
  {
   "cell_type": "code",
   "execution_count": null,
   "id": "ba4c92d5-bdfc-4a9e-99b8-449cd45b51e0",
   "metadata": {},
   "outputs": [],
   "source": []
  },
  {
   "cell_type": "code",
   "execution_count": null,
   "id": "d9b92ed3-9bb5-42a2-85b0-2c79659afcb5",
   "metadata": {},
   "outputs": [],
   "source": []
  },
  {
   "cell_type": "code",
   "execution_count": null,
   "id": "a65d38dd-4e9d-424f-9317-6a4d1462632d",
   "metadata": {},
   "outputs": [],
   "source": []
  },
  {
   "cell_type": "code",
   "execution_count": null,
   "id": "5f53da45-8af9-4444-9cd1-ae57f419d875",
   "metadata": {},
   "outputs": [],
   "source": []
  },
  {
   "cell_type": "code",
   "execution_count": null,
   "id": "9b15bfe4-6be3-46f7-bcfc-809d0479f936",
   "metadata": {},
   "outputs": [],
   "source": []
  },
  {
   "cell_type": "code",
   "execution_count": null,
   "id": "76378703-029f-4b87-b04c-50987eea7c61",
   "metadata": {},
   "outputs": [],
   "source": []
  }
 ],
 "metadata": {
  "kernelspec": {
   "display_name": "Python 3 (ipykernel)",
   "language": "python",
   "name": "python3"
  },
  "language_info": {
   "codemirror_mode": {
    "name": "ipython",
    "version": 3
   },
   "file_extension": ".py",
   "mimetype": "text/x-python",
   "name": "python",
   "nbconvert_exporter": "python",
   "pygments_lexer": "ipython3",
   "version": "3.12.8"
  }
 },
 "nbformat": 4,
 "nbformat_minor": 5
}
